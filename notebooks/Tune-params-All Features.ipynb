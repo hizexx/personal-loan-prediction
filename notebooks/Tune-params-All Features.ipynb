{
 "cells": [
  {
   "cell_type": "markdown",
   "id": "d3a99c4a",
   "metadata": {},
   "source": [
    "# ISYS2407 Information Systems Solutions & Design\n",
    "# Assignment 3\n",
    "\n",
    "# Hyperparameters tuning: All Features"
   ]
  },
  {
   "cell_type": "markdown",
   "id": "5eed22b2",
   "metadata": {},
   "source": [
    "#### Student name: Thao Vy LE\n",
    "\n",
    "#### Student number: S3970577"
   ]
  },
  {
   "cell_type": "markdown",
   "id": "6eb8b87f",
   "metadata": {},
   "source": [
    "# 1 Import libraries"
   ]
  },
  {
   "cell_type": "code",
   "execution_count": 11,
   "id": "36d64942",
   "metadata": {},
   "outputs": [],
   "source": [
    "# Library for pickling\n",
    "import joblib\n",
    "\n",
    "# Miscellabeous libraries\n",
    "import numpy as np\n",
    "import pandas as pd\n",
    "#import collections\n",
    "#import time\n",
    "\n",
    "# Model libraries\n",
    "from sklearn.linear_model import LogisticRegression\n",
    "from sklearn.neighbors import KNeighborsClassifier\n",
    "from sklearn.svm import SVC\n",
    "from sklearn.ensemble import RandomForestClassifier\n",
    "from sklearn.naive_bayes import GaussianNB\n",
    "\n",
    "# Library for performing grid search\n",
    "from sklearn.model_selection import GridSearchCV\n",
    "\n",
    "# Metrics library\n",
    "#from sklearn.metrics import accuracy_score\n",
    "#from sklearn.metrics import confusion_matrix\n",
    "#from sklearn.metrics import recall_score\n",
    "#from sklearn.metrics import precision_score\n",
    "from sklearn.metrics import f1_score\n",
    "#from sklearn.metrics import classification_report\n",
    "#from sklearn.metrics import roc_curve\n",
    "#from sklearn.metrics import auc"
   ]
  },
  {
   "cell_type": "markdown",
   "id": "f0d890af",
   "metadata": {},
   "source": [
    "# 2 Model 1: Random Forest_All Features"
   ]
  },
  {
   "cell_type": "markdown",
   "id": "9bbc490e",
   "metadata": {},
   "source": [
    "## 2.1 Load pkl file "
   ]
  },
  {
   "cell_type": "code",
   "execution_count": 13,
   "id": "38899908",
   "metadata": {},
   "outputs": [
    {
     "name": "stdout",
     "output_type": "stream",
     "text": [
      "train data: (4800, 13) (4800,)\n",
      "test data: (1200, 13) (1200,)\n"
     ]
    }
   ],
   "source": [
    "# Load the pickled files\n",
    "X_train = joblib.load('X_train_1_allfeatures.pkl')  \n",
    "y_train = joblib.load('y_train_1_allfeatures.pkl')\n",
    "X_test = joblib.load('X_test_1_allfeatures.pkl')  \n",
    "y_test = joblib.load('y_test_1_allfeatures.pkl')\n",
    "\n",
    "# Check\n",
    "print(\"train data:\", X_train.shape, y_train.shape)\n",
    "print(\"test data:\", X_test.shape, y_test.shape)"
   ]
  },
  {
   "cell_type": "code",
   "execution_count": 14,
   "id": "43e1252d",
   "metadata": {},
   "outputs": [
    {
     "data": {
      "text/html": [
       "<div>\n",
       "<style scoped>\n",
       "    .dataframe tbody tr th:only-of-type {\n",
       "        vertical-align: middle;\n",
       "    }\n",
       "\n",
       "    .dataframe tbody tr th {\n",
       "        vertical-align: top;\n",
       "    }\n",
       "\n",
       "    .dataframe thead th {\n",
       "        text-align: right;\n",
       "    }\n",
       "</style>\n",
       "<table border=\"1\" class=\"dataframe\">\n",
       "  <thead>\n",
       "    <tr style=\"text-align: right;\">\n",
       "      <th></th>\n",
       "      <th>age</th>\n",
       "      <th>yrs_experience</th>\n",
       "      <th>family_size</th>\n",
       "      <th>education_level</th>\n",
       "      <th>mortgage_amt</th>\n",
       "      <th>credit_card_acct</th>\n",
       "      <th>credit_card_spend</th>\n",
       "      <th>share_trading_acct</th>\n",
       "      <th>fixed_deposit_acct</th>\n",
       "      <th>online_acct</th>\n",
       "      <th>bpc_high_income</th>\n",
       "      <th>bpc_low_income</th>\n",
       "      <th>bpc_medium_income</th>\n",
       "    </tr>\n",
       "  </thead>\n",
       "  <tbody>\n",
       "    <tr>\n",
       "      <th>2973</th>\n",
       "      <td>1.461735</td>\n",
       "      <td>-0.802635</td>\n",
       "      <td>-1.215152</td>\n",
       "      <td>-1.061242</td>\n",
       "      <td>-0.784341</td>\n",
       "      <td>-0.643631</td>\n",
       "      <td>0.0</td>\n",
       "      <td>-0.326735</td>\n",
       "      <td>-0.287729</td>\n",
       "      <td>-1.240298</td>\n",
       "      <td>0</td>\n",
       "      <td>1</td>\n",
       "      <td>0</td>\n",
       "    </tr>\n",
       "    <tr>\n",
       "      <th>2774</th>\n",
       "      <td>-0.826882</td>\n",
       "      <td>1.387036</td>\n",
       "      <td>1.312027</td>\n",
       "      <td>-1.061242</td>\n",
       "      <td>-0.784341</td>\n",
       "      <td>-0.643631</td>\n",
       "      <td>0.0</td>\n",
       "      <td>-0.326735</td>\n",
       "      <td>-0.287729</td>\n",
       "      <td>0.806258</td>\n",
       "      <td>1</td>\n",
       "      <td>0</td>\n",
       "      <td>0</td>\n",
       "    </tr>\n",
       "    <tr>\n",
       "      <th>3281</th>\n",
       "      <td>-0.908618</td>\n",
       "      <td>1.308833</td>\n",
       "      <td>-0.372759</td>\n",
       "      <td>1.323572</td>\n",
       "      <td>-0.784341</td>\n",
       "      <td>1.553686</td>\n",
       "      <td>0.0</td>\n",
       "      <td>-0.326735</td>\n",
       "      <td>-0.287729</td>\n",
       "      <td>0.806258</td>\n",
       "      <td>0</td>\n",
       "      <td>0</td>\n",
       "      <td>1</td>\n",
       "    </tr>\n",
       "    <tr>\n",
       "      <th>2512</th>\n",
       "      <td>1.379999</td>\n",
       "      <td>-0.724432</td>\n",
       "      <td>-1.215152</td>\n",
       "      <td>-1.061242</td>\n",
       "      <td>-0.784341</td>\n",
       "      <td>-0.643631</td>\n",
       "      <td>0.0</td>\n",
       "      <td>-0.326735</td>\n",
       "      <td>-0.287729</td>\n",
       "      <td>0.806258</td>\n",
       "      <td>0</td>\n",
       "      <td>0</td>\n",
       "      <td>1</td>\n",
       "    </tr>\n",
       "    <tr>\n",
       "      <th>457</th>\n",
       "      <td>0.971317</td>\n",
       "      <td>0.839618</td>\n",
       "      <td>1.312027</td>\n",
       "      <td>0.131165</td>\n",
       "      <td>-0.784341</td>\n",
       "      <td>-0.643631</td>\n",
       "      <td>0.0</td>\n",
       "      <td>-0.326735</td>\n",
       "      <td>-0.287729</td>\n",
       "      <td>0.806258</td>\n",
       "      <td>0</td>\n",
       "      <td>0</td>\n",
       "      <td>1</td>\n",
       "    </tr>\n",
       "  </tbody>\n",
       "</table>\n",
       "</div>"
      ],
      "text/plain": [
       "           age  yrs_experience  family_size  education_level  mortgage_amt  \\\n",
       "2973  1.461735       -0.802635    -1.215152        -1.061242     -0.784341   \n",
       "2774 -0.826882        1.387036     1.312027        -1.061242     -0.784341   \n",
       "3281 -0.908618        1.308833    -0.372759         1.323572     -0.784341   \n",
       "2512  1.379999       -0.724432    -1.215152        -1.061242     -0.784341   \n",
       "457   0.971317        0.839618     1.312027         0.131165     -0.784341   \n",
       "\n",
       "      credit_card_acct  credit_card_spend  share_trading_acct  \\\n",
       "2973         -0.643631                0.0           -0.326735   \n",
       "2774         -0.643631                0.0           -0.326735   \n",
       "3281          1.553686                0.0           -0.326735   \n",
       "2512         -0.643631                0.0           -0.326735   \n",
       "457          -0.643631                0.0           -0.326735   \n",
       "\n",
       "      fixed_deposit_acct  online_acct  bpc_high_income  bpc_low_income  \\\n",
       "2973           -0.287729    -1.240298                0               1   \n",
       "2774           -0.287729     0.806258                1               0   \n",
       "3281           -0.287729     0.806258                0               0   \n",
       "2512           -0.287729     0.806258                0               0   \n",
       "457            -0.287729     0.806258                0               0   \n",
       "\n",
       "      bpc_medium_income  \n",
       "2973                  0  \n",
       "2774                  0  \n",
       "3281                  1  \n",
       "2512                  1  \n",
       "457                   1  "
      ]
     },
     "execution_count": 14,
     "metadata": {},
     "output_type": "execute_result"
    }
   ],
   "source": [
    "X_train.head()"
   ]
  },
  {
   "cell_type": "markdown",
   "id": "18e9696b",
   "metadata": {},
   "source": [
    "## 2.2 Optimising Hyperparameters "
   ]
  },
  {
   "cell_type": "code",
   "execution_count": 15,
   "id": "d53cb289",
   "metadata": {},
   "outputs": [
    {
     "name": "stdout",
     "output_type": "stream",
     "text": [
      "Best params: {'criterion': 'entropy', 'n_estimators': 17}, score: 0.64\n"
     ]
    }
   ],
   "source": [
    "# Ref: https://scikit-learn.org/stable/modules/generated/sklearn.ensemble.RandomForestClassifier.html\n",
    "\n",
    "# List of relevant params\n",
    "#     n_estimators: int, default=100\n",
    "#     criterion: {“gini”, “entropy”}, default=”gini”\n",
    "#     max_depth: int, default=None\n",
    "#     min_samples_split: int or float, default=2\n",
    "#     min_samples_leaf: int or float, default=1\n",
    "#     min_weight_fraction_leaf: float, default=0.0\n",
    "#     max_features: {“auto”, “sqrt”, “log2”}, int or float, default=”auto”\n",
    "#     max_leaf_nodes: int, default=None\n",
    "\n",
    "param_grid = [\n",
    "    {\"criterion\": [\"gini\", \"entropy\"], \"n_estimators\": range(1, 20)}\n",
    "]\n",
    "\n",
    "# Instantiate a grid search object and fit it to the training data\n",
    "clf = RandomForestClassifier()\n",
    "grid = GridSearchCV(clf, param_grid, verbose=0, cv=5, scoring='f1')\n",
    "grid.fit(X_train, y_train)\n",
    "print(f\"Best params: {grid.best_params_}, score: {grid.best_score_:0.2f}\")"
   ]
  },
  {
   "cell_type": "markdown",
   "id": "7ae0193d",
   "metadata": {},
   "source": [
    "# 3 Model 2: KNN_All Features"
   ]
  },
  {
   "cell_type": "markdown",
   "id": "89c8bb7d",
   "metadata": {},
   "source": [
    "## 3.1 Load pkl file "
   ]
  },
  {
   "cell_type": "code",
   "execution_count": 16,
   "id": "544f9e79",
   "metadata": {},
   "outputs": [
    {
     "name": "stdout",
     "output_type": "stream",
     "text": [
      "train data: (4800, 13) (4800,)\n",
      "test data: (1200, 13) (1200,)\n"
     ]
    }
   ],
   "source": [
    "# Load the pickled files\n",
    "X_train = joblib.load('X_train_2_allfeatures.pkl')  \n",
    "y_train = joblib.load('y_train_2_allfeatures.pkl')\n",
    "X_test = joblib.load('X_test_2_allfeatures.pkl')  \n",
    "y_test = joblib.load('y_test_2_allfeatures.pkl')\n",
    "\n",
    "# Check\n",
    "print(\"train data:\", X_train.shape, y_train.shape)\n",
    "print(\"test data:\", X_test.shape, y_test.shape)"
   ]
  },
  {
   "cell_type": "markdown",
   "id": "26649ae9",
   "metadata": {},
   "source": [
    "## 3.2 Optimising Hyperparameters "
   ]
  },
  {
   "cell_type": "code",
   "execution_count": 17,
   "id": "31e4d142",
   "metadata": {},
   "outputs": [
    {
     "name": "stdout",
     "output_type": "stream",
     "text": [
      "Best params: {'n_neighbors': 9, 'weights': 'distance'}, score: 0.60\n"
     ]
    }
   ],
   "source": [
    "# Ref: https://scikit-learn.org/stable/modules/generated/sklearn.neighbors.KNeighborsClassifier.html\n",
    "\n",
    "# List of relevant params\n",
    "#     n_neighbors:int, default=5\n",
    "#     weights: {‘uniform’, ‘distance’} or callable, default=’uniform’\n",
    "#     algorithm: {‘auto’, ‘ball_tree’, ‘kd_tree’, ‘brute’}, default=’auto’\n",
    "\n",
    "param_grid = [\n",
    "    {\"n_neighbors\": range(1, 50)},\n",
    "    {\"n_neighbors\": range(1, 50), \"weights\": [\"uniform\", \"distance\"]}\n",
    "]\n",
    "\n",
    "# Instantiate a grid search object and fit it to the training data\n",
    "clf = KNeighborsClassifier()\n",
    "grid = GridSearchCV(clf, param_grid, verbose=0, cv=5, scoring='f1')\n",
    "grid.fit(X_train, y_train)\n",
    "print(f\"Best params: {grid.best_params_}, score: {grid.best_score_:0.2f}\")"
   ]
  }
 ],
 "metadata": {
  "kernelspec": {
   "display_name": "Python 3 (ipykernel)",
   "language": "python",
   "name": "python3"
  },
  "language_info": {
   "codemirror_mode": {
    "name": "ipython",
    "version": 3
   },
   "file_extension": ".py",
   "mimetype": "text/x-python",
   "name": "python",
   "nbconvert_exporter": "python",
   "pygments_lexer": "ipython3",
   "version": "3.10.0"
  }
 },
 "nbformat": 4,
 "nbformat_minor": 5
}
