{
 "cells": [
  {
   "cell_type": "markdown",
   "id": "b82ba9ed",
   "metadata": {},
   "source": [
    "# ISYS2407 Information Systems Solutions & Design\n",
    "\n",
    "# My Model Training 2 : KNN\n",
    "\n",
    "# Selected Features"
   ]
  },
  {
   "cell_type": "markdown",
   "id": "46a9d1a0",
   "metadata": {},
   "source": [
    "#### Student name: Thao Vy LE\n",
    "\n",
    "#### Student number: S3970577"
   ]
  },
  {
   "cell_type": "markdown",
   "id": "975cf44f",
   "metadata": {},
   "source": [
    "\n",
    "# I. Binary Classification "
   ]
  },
  {
   "cell_type": "markdown",
   "id": "6e568271",
   "metadata": {},
   "source": [
    "## 1.1 Import Libraries"
   ]
  },
  {
   "cell_type": "code",
   "execution_count": 1,
   "id": "e3394400",
   "metadata": {},
   "outputs": [],
   "source": [
    "# Library for pickling\n",
    "import joblib\n",
    "\n",
    "# Library needed for counting categorical values\n",
    "import collections\n",
    "\n",
    "# Library for splitting the data into train and test sets\n",
    "from sklearn.model_selection import train_test_split \n",
    "\n",
    "# Scaling\n",
    "from sklearn.preprocessing import StandardScaler\n",
    "\n",
    "# label encoder\n",
    "from sklearn.preprocessing import LabelEncoder\n",
    "\n",
    "# Onehot encoding\n",
    "from sklearn.preprocessing import LabelBinarizer\n",
    "import pandas as pd\n",
    "import numpy as np\n",
    "\n",
    "# Metrics library\n",
    "from sklearn.metrics import accuracy_score\n",
    "from sklearn.metrics import confusion_matrix\n",
    "from sklearn.metrics import recall_score\n",
    "from sklearn.metrics import precision_score\n",
    "from sklearn.metrics import f1_score\n",
    "from sklearn.metrics import classification_report\n",
    "from sklearn.metrics import roc_curve\n",
    "from sklearn.metrics import auc\n",
    "\n",
    "# Plotting libraries\n",
    "import matplotlib.pyplot as plt\n",
    "%matplotlib inline \n",
    "import seaborn as sns\n",
    "\n",
    "# Libraries to select k best features\n",
    "from sklearn.feature_selection import SelectKBest\n",
    "from sklearn.feature_selection import chi2"
   ]
  },
  {
   "cell_type": "markdown",
   "id": "372cb175",
   "metadata": {},
   "source": [
    "## 1.2 Import model library"
   ]
  },
  {
   "cell_type": "code",
   "execution_count": 2,
   "id": "9b4681da",
   "metadata": {},
   "outputs": [],
   "source": [
    "# Model library\n",
    "from sklearn.neighbors import KNeighborsClassifier"
   ]
  },
  {
   "cell_type": "markdown",
   "id": "33680df0",
   "metadata": {},
   "source": [
    "### 1.4 Load the cleaned pkl file"
   ]
  },
  {
   "cell_type": "code",
   "execution_count": 3,
   "id": "d5153708",
   "metadata": {},
   "outputs": [
    {
     "data": {
      "text/html": [
       "<div>\n",
       "<style scoped>\n",
       "    .dataframe tbody tr th:only-of-type {\n",
       "        vertical-align: middle;\n",
       "    }\n",
       "\n",
       "    .dataframe tbody tr th {\n",
       "        vertical-align: top;\n",
       "    }\n",
       "\n",
       "    .dataframe thead th {\n",
       "        text-align: right;\n",
       "    }\n",
       "</style>\n",
       "<table border=\"1\" class=\"dataframe\">\n",
       "  <thead>\n",
       "    <tr style=\"text-align: right;\">\n",
       "      <th></th>\n",
       "      <th>customer_id</th>\n",
       "      <th>age</th>\n",
       "      <th>yrs_experience</th>\n",
       "      <th>family_size</th>\n",
       "      <th>education_level</th>\n",
       "      <th>income</th>\n",
       "      <th>mortgage_amt</th>\n",
       "      <th>credit_card_acct</th>\n",
       "      <th>credit_card_spend</th>\n",
       "      <th>share_trading_acct</th>\n",
       "      <th>fixed_deposit_acct</th>\n",
       "      <th>online_acct</th>\n",
       "      <th>personal_loan</th>\n",
       "    </tr>\n",
       "  </thead>\n",
       "  <tbody>\n",
       "    <tr>\n",
       "      <th>0</th>\n",
       "      <td>3815</td>\n",
       "      <td>40.0</td>\n",
       "      <td>9.0</td>\n",
       "      <td>3.0</td>\n",
       "      <td>1</td>\n",
       "      <td>60.0</td>\n",
       "      <td>0.0</td>\n",
       "      <td>1</td>\n",
       "      <td>0.0</td>\n",
       "      <td>0</td>\n",
       "      <td>0</td>\n",
       "      <td>1</td>\n",
       "      <td>0</td>\n",
       "    </tr>\n",
       "    <tr>\n",
       "      <th>1</th>\n",
       "      <td>5737</td>\n",
       "      <td>65.0</td>\n",
       "      <td>27.0</td>\n",
       "      <td>4.0</td>\n",
       "      <td>2</td>\n",
       "      <td>36.0</td>\n",
       "      <td>90.0</td>\n",
       "      <td>0</td>\n",
       "      <td>0.0</td>\n",
       "      <td>0</td>\n",
       "      <td>0</td>\n",
       "      <td>1</td>\n",
       "      <td>0</td>\n",
       "    </tr>\n",
       "    <tr>\n",
       "      <th>2</th>\n",
       "      <td>4209</td>\n",
       "      <td>61.0</td>\n",
       "      <td>3.0</td>\n",
       "      <td>2.0</td>\n",
       "      <td>0</td>\n",
       "      <td>145.0</td>\n",
       "      <td>0.0</td>\n",
       "      <td>0</td>\n",
       "      <td>0.0</td>\n",
       "      <td>0</td>\n",
       "      <td>1</td>\n",
       "      <td>1</td>\n",
       "      <td>1</td>\n",
       "    </tr>\n",
       "    <tr>\n",
       "      <th>3</th>\n",
       "      <td>4734</td>\n",
       "      <td>29.0</td>\n",
       "      <td>14.0</td>\n",
       "      <td>1.0</td>\n",
       "      <td>0</td>\n",
       "      <td>52.0</td>\n",
       "      <td>0.0</td>\n",
       "      <td>0</td>\n",
       "      <td>0.0</td>\n",
       "      <td>1</td>\n",
       "      <td>0</td>\n",
       "      <td>1</td>\n",
       "      <td>0</td>\n",
       "    </tr>\n",
       "    <tr>\n",
       "      <th>4</th>\n",
       "      <td>2551</td>\n",
       "      <td>43.0</td>\n",
       "      <td>23.0</td>\n",
       "      <td>4.0</td>\n",
       "      <td>1</td>\n",
       "      <td>33.0</td>\n",
       "      <td>0.0</td>\n",
       "      <td>0</td>\n",
       "      <td>0.0</td>\n",
       "      <td>0</td>\n",
       "      <td>0</td>\n",
       "      <td>1</td>\n",
       "      <td>0</td>\n",
       "    </tr>\n",
       "  </tbody>\n",
       "</table>\n",
       "</div>"
      ],
      "text/plain": [
       "   customer_id   age  yrs_experience  family_size  education_level  income  \\\n",
       "0         3815  40.0             9.0          3.0                1    60.0   \n",
       "1         5737  65.0            27.0          4.0                2    36.0   \n",
       "2         4209  61.0             3.0          2.0                0   145.0   \n",
       "3         4734  29.0            14.0          1.0                0    52.0   \n",
       "4         2551  43.0            23.0          4.0                1    33.0   \n",
       "\n",
       "   mortgage_amt  credit_card_acct  credit_card_spend  share_trading_acct  \\\n",
       "0           0.0                 1                0.0                   0   \n",
       "1          90.0                 0                0.0                   0   \n",
       "2           0.0                 0                0.0                   0   \n",
       "3           0.0                 0                0.0                   1   \n",
       "4           0.0                 0                0.0                   0   \n",
       "\n",
       "   fixed_deposit_acct  online_acct  personal_loan  \n",
       "0                   0            1              0  \n",
       "1                   0            1              0  \n",
       "2                   1            1              1  \n",
       "3                   0            1              0  \n",
       "4                   0            1              0  "
      ]
     },
     "execution_count": 3,
     "metadata": {},
     "output_type": "execute_result"
    }
   ],
   "source": [
    "# Load the pickled file\n",
    "personal_loan_df = joblib.load('cleaned_personal_loan.pkl')  \n",
    "\n",
    "# Check\n",
    "personal_loan_df.head()"
   ]
  },
  {
   "cell_type": "markdown",
   "id": "9fa2fcc3",
   "metadata": {},
   "source": [
    "### 1.5 Splitting data for testing and training"
   ]
  },
  {
   "cell_type": "code",
   "execution_count": 4,
   "id": "f38cb78d",
   "metadata": {},
   "outputs": [],
   "source": [
    "# Features are variables that affect the target/label\n",
    "# So, it's all the columns excluding the target column\n",
    "# Featured excluded: credit_card_acct, credit_card_spend, online_acct\n",
    "feature_cols = [\n",
    "    'age', \n",
    "    'yrs_experience', \n",
    "    'family_size', \n",
    "    'education_level',\n",
    "    'income', \n",
    "    'mortgage_amt',\n",
    "    'share_trading_acct',\n",
    "    'fixed_deposit_acct'\n",
    "]\n",
    "\n",
    "X = personal_loan_df[feature_cols]\n",
    "#print('X:\\n', X)\n",
    "\n",
    "# Store the labels/target in variable y (lower case as its a single value)\n",
    "y = personal_loan_df['personal_loan']\n",
    "#print('y:\\n', y)\n",
    "\n",
    "# Split into train/test set\n",
    "X_train, X_test, y_train, y_test = train_test_split(X, \n",
    "                                                    y, \n",
    "                                                    test_size=0.2, # keep 20% for testing, rest for training\n",
    "                                                    random_state=2 # pass an int for reproducible rtesult\n",
    "                                                    )"
   ]
  },
  {
   "cell_type": "code",
   "execution_count": 5,
   "id": "0ed43017",
   "metadata": {},
   "outputs": [
    {
     "name": "stdout",
     "output_type": "stream",
     "text": [
      "(4800, 8) (4800,)\n",
      "(1200, 8) (1200,)\n"
     ]
    }
   ],
   "source": [
    "# Check splitted training/testing set\n",
    "print(X_train.shape, y_train.shape)\n",
    "print(X_test.shape, y_test.shape)"
   ]
  },
  {
   "cell_type": "code",
   "execution_count": 6,
   "id": "046c3082",
   "metadata": {},
   "outputs": [
    {
     "name": "stdout",
     "output_type": "stream",
     "text": [
      "(6000, 13)\n",
      "Index(['customer_id', 'age', 'yrs_experience', 'family_size',\n",
      "       'education_level', 'income', 'mortgage_amt', 'credit_card_acct',\n",
      "       'credit_card_spend', 'share_trading_acct', 'fixed_deposit_acct',\n",
      "       'online_acct', 'personal_loan'],\n",
      "      dtype='object')\n"
     ]
    }
   ],
   "source": [
    "# Check the data shape\n",
    "print(personal_loan_df.shape)\n",
    "print(personal_loan_df.columns)"
   ]
  },
  {
   "cell_type": "markdown",
   "id": "abfd47dd",
   "metadata": {},
   "source": [
    "## 2 Data Transformation"
   ]
  },
  {
   "cell_type": "markdown",
   "id": "b0f1f7d0",
   "metadata": {},
   "source": [
    "### 2.1 Scaling: Create copy of X_train and X_test"
   ]
  },
  {
   "cell_type": "code",
   "execution_count": 7,
   "id": "eecf04c0",
   "metadata": {},
   "outputs": [
    {
     "name": "stdout",
     "output_type": "stream",
     "text": [
      "(4800, 8) (1200, 8)\n"
     ]
    }
   ],
   "source": [
    "# 1. Select the columns to scale\n",
    "# Make sure they are continuous columns as scaling is only for continuous values\n",
    "# Remove 'income','yrs_experience','family_size','age'\n",
    "columns_to_scale = [\n",
    "    'age',\n",
    "    'yrs_experience',\n",
    "    'family_size',\n",
    "    'education_level',\n",
    "    'mortgage_amt',\n",
    "    'share_trading_acct',\n",
    "    'fixed_deposit_acct'\n",
    "]\n",
    "\n",
    "# 2. Make copy of the training and testing sets fix the issue below\n",
    "# Warning: A value is trying to be set on a copy of a slice from a DataFrame.\n",
    "# Try using .loc[row_indexer,col_indexer] = value instead\n",
    "X_train = X_train.copy()\n",
    "X_test = X_test.copy()\n",
    "\n",
    "# 3. Instantiate a scaler\n",
    "scaler = StandardScaler()\n",
    "    \n",
    "# 4. Fit the scaler on the training column and transform the training and testing columns\n",
    "# Use a loop to scale all the required columns    \n",
    "for col in columns_to_scale:\n",
    "    #print(col)\n",
    "    # First fit the scaler to the column in the training data\n",
    "    # Must reshape the numpy array returned b the scaler from 1D to 2D\n",
    "    scaler.fit(X_train[col].values.reshape(-1, 1))\n",
    "    # Then transform both the training and testing sets\n",
    "    X_train[col] = scaler.transform(X_train[col].values.reshape(-1, 1))\n",
    "    X_test[col] = scaler.transform(X_test[col].values.reshape(-1, 1))\n",
    "\n",
    "# Check\n",
    "print(X_train.shape, X_test.shape)"
   ]
  },
  {
   "cell_type": "code",
   "execution_count": 59,
   "id": "0336457d",
   "metadata": {},
   "outputs": [
    {
     "data": {
      "text/html": [
       "<div>\n",
       "<style scoped>\n",
       "    .dataframe tbody tr th:only-of-type {\n",
       "        vertical-align: middle;\n",
       "    }\n",
       "\n",
       "    .dataframe tbody tr th {\n",
       "        vertical-align: top;\n",
       "    }\n",
       "\n",
       "    .dataframe thead th {\n",
       "        text-align: right;\n",
       "    }\n",
       "</style>\n",
       "<table border=\"1\" class=\"dataframe\">\n",
       "  <thead>\n",
       "    <tr style=\"text-align: right;\">\n",
       "      <th></th>\n",
       "      <th>age</th>\n",
       "      <th>yrs_experience</th>\n",
       "      <th>family_size</th>\n",
       "      <th>education_level</th>\n",
       "      <th>income</th>\n",
       "      <th>mortgage_amt</th>\n",
       "      <th>share_trading_acct</th>\n",
       "      <th>fixed_deposit_acct</th>\n",
       "    </tr>\n",
       "  </thead>\n",
       "  <tbody>\n",
       "    <tr>\n",
       "      <th>2973</th>\n",
       "      <td>1.461735</td>\n",
       "      <td>-0.802635</td>\n",
       "      <td>-1.215152</td>\n",
       "      <td>-1.061242</td>\n",
       "      <td>19.0</td>\n",
       "      <td>-0.784341</td>\n",
       "      <td>-0.326735</td>\n",
       "      <td>-0.287729</td>\n",
       "    </tr>\n",
       "    <tr>\n",
       "      <th>2774</th>\n",
       "      <td>-0.826882</td>\n",
       "      <td>1.387036</td>\n",
       "      <td>1.312027</td>\n",
       "      <td>-1.061242</td>\n",
       "      <td>144.0</td>\n",
       "      <td>-0.784341</td>\n",
       "      <td>-0.326735</td>\n",
       "      <td>-0.287729</td>\n",
       "    </tr>\n",
       "    <tr>\n",
       "      <th>3281</th>\n",
       "      <td>-0.908618</td>\n",
       "      <td>1.308833</td>\n",
       "      <td>-0.372759</td>\n",
       "      <td>1.323572</td>\n",
       "      <td>55.0</td>\n",
       "      <td>-0.784341</td>\n",
       "      <td>-0.326735</td>\n",
       "      <td>-0.287729</td>\n",
       "    </tr>\n",
       "    <tr>\n",
       "      <th>2512</th>\n",
       "      <td>1.379999</td>\n",
       "      <td>-0.724432</td>\n",
       "      <td>-1.215152</td>\n",
       "      <td>-1.061242</td>\n",
       "      <td>94.0</td>\n",
       "      <td>-0.784341</td>\n",
       "      <td>-0.326735</td>\n",
       "      <td>-0.287729</td>\n",
       "    </tr>\n",
       "    <tr>\n",
       "      <th>457</th>\n",
       "      <td>0.971317</td>\n",
       "      <td>0.839618</td>\n",
       "      <td>1.312027</td>\n",
       "      <td>0.131165</td>\n",
       "      <td>70.0</td>\n",
       "      <td>-0.784341</td>\n",
       "      <td>-0.326735</td>\n",
       "      <td>-0.287729</td>\n",
       "    </tr>\n",
       "  </tbody>\n",
       "</table>\n",
       "</div>"
      ],
      "text/plain": [
       "           age  yrs_experience  family_size  education_level  income  \\\n",
       "2973  1.461735       -0.802635    -1.215152        -1.061242    19.0   \n",
       "2774 -0.826882        1.387036     1.312027        -1.061242   144.0   \n",
       "3281 -0.908618        1.308833    -0.372759         1.323572    55.0   \n",
       "2512  1.379999       -0.724432    -1.215152        -1.061242    94.0   \n",
       "457   0.971317        0.839618     1.312027         0.131165    70.0   \n",
       "\n",
       "      mortgage_amt  share_trading_acct  fixed_deposit_acct  \n",
       "2973     -0.784341           -0.326735           -0.287729  \n",
       "2774     -0.784341           -0.326735           -0.287729  \n",
       "3281     -0.784341           -0.326735           -0.287729  \n",
       "2512     -0.784341           -0.326735           -0.287729  \n",
       "457      -0.784341           -0.326735           -0.287729  "
      ]
     },
     "execution_count": 59,
     "metadata": {},
     "output_type": "execute_result"
    }
   ],
   "source": [
    "# Check again\n",
    "X_train.head()"
   ]
  },
  {
   "cell_type": "markdown",
   "id": "12aef71a",
   "metadata": {},
   "source": [
    "### 2.2 Discretization of continuous values"
   ]
  },
  {
   "cell_type": "code",
   "execution_count": 60,
   "id": "98a10938",
   "metadata": {},
   "outputs": [],
   "source": [
    "# When checking the number of unique values, the income column was found to contain 257 values\n",
    "# This is evidence that it's a continuous variable\n",
    "\n",
    "# For income we could use the following: #Low: <$26000\n",
    "#Low-Medium: $26,000 - $51,999 \n",
    "#Medium: $52,000 - $77,999 /Medium-High: $78,000 - $103,999/ otherwise superhigh\n",
    "#Individual income in City of Melbourne: https://profile.id.com.au/melbourne/individual-income\n",
    "#Household income in City of Melbourne: https://profile.id.com.au/melbourne/household-income\n",
    "#Earnings and working conditions (Australia-wide): https://www.abs.gov.au/statistics/labour/earnings-and-working-conditions\n",
    "\n",
    "# Define a function to classify this\n",
    "# Pass the whole dataframe as parameter\n",
    "# And return a category (a word label but you could also return numeric labels)\n",
    "# NOTE: Do not create too many categories as this will affect the learning algorithms\n",
    "\n",
    "def income_category(df):\n",
    "    if df[\"income\"] <= 26:\n",
    "        return \"low_income\"\n",
    "    elif (df[\"income\"] > 26) & (df[\"income\"] <= 103.9):\n",
    "        return \"medium_income\"\n",
    "    elif df[\"income\"] > 103.9:\n",
    "        return \"high_income\"\n",
    "        "
   ]
  },
  {
   "cell_type": "code",
   "execution_count": 61,
   "id": "584c7f24",
   "metadata": {},
   "outputs": [
    {
     "data": {
      "text/html": [
       "<div>\n",
       "<style scoped>\n",
       "    .dataframe tbody tr th:only-of-type {\n",
       "        vertical-align: middle;\n",
       "    }\n",
       "\n",
       "    .dataframe tbody tr th {\n",
       "        vertical-align: top;\n",
       "    }\n",
       "\n",
       "    .dataframe thead th {\n",
       "        text-align: right;\n",
       "    }\n",
       "</style>\n",
       "<table border=\"1\" class=\"dataframe\">\n",
       "  <thead>\n",
       "    <tr style=\"text-align: right;\">\n",
       "      <th></th>\n",
       "      <th>age</th>\n",
       "      <th>yrs_experience</th>\n",
       "      <th>family_size</th>\n",
       "      <th>education_level</th>\n",
       "      <th>mortgage_amt</th>\n",
       "      <th>share_trading_acct</th>\n",
       "      <th>fixed_deposit_acct</th>\n",
       "      <th>income_category</th>\n",
       "    </tr>\n",
       "  </thead>\n",
       "  <tbody>\n",
       "    <tr>\n",
       "      <th>2973</th>\n",
       "      <td>1.461735</td>\n",
       "      <td>-0.802635</td>\n",
       "      <td>-1.215152</td>\n",
       "      <td>-1.061242</td>\n",
       "      <td>-0.784341</td>\n",
       "      <td>-0.326735</td>\n",
       "      <td>-0.287729</td>\n",
       "      <td>low_income</td>\n",
       "    </tr>\n",
       "    <tr>\n",
       "      <th>2774</th>\n",
       "      <td>-0.826882</td>\n",
       "      <td>1.387036</td>\n",
       "      <td>1.312027</td>\n",
       "      <td>-1.061242</td>\n",
       "      <td>-0.784341</td>\n",
       "      <td>-0.326735</td>\n",
       "      <td>-0.287729</td>\n",
       "      <td>high_income</td>\n",
       "    </tr>\n",
       "    <tr>\n",
       "      <th>3281</th>\n",
       "      <td>-0.908618</td>\n",
       "      <td>1.308833</td>\n",
       "      <td>-0.372759</td>\n",
       "      <td>1.323572</td>\n",
       "      <td>-0.784341</td>\n",
       "      <td>-0.326735</td>\n",
       "      <td>-0.287729</td>\n",
       "      <td>medium_income</td>\n",
       "    </tr>\n",
       "    <tr>\n",
       "      <th>2512</th>\n",
       "      <td>1.379999</td>\n",
       "      <td>-0.724432</td>\n",
       "      <td>-1.215152</td>\n",
       "      <td>-1.061242</td>\n",
       "      <td>-0.784341</td>\n",
       "      <td>-0.326735</td>\n",
       "      <td>-0.287729</td>\n",
       "      <td>medium_income</td>\n",
       "    </tr>\n",
       "    <tr>\n",
       "      <th>457</th>\n",
       "      <td>0.971317</td>\n",
       "      <td>0.839618</td>\n",
       "      <td>1.312027</td>\n",
       "      <td>0.131165</td>\n",
       "      <td>-0.784341</td>\n",
       "      <td>-0.326735</td>\n",
       "      <td>-0.287729</td>\n",
       "      <td>medium_income</td>\n",
       "    </tr>\n",
       "  </tbody>\n",
       "</table>\n",
       "</div>"
      ],
      "text/plain": [
       "           age  yrs_experience  family_size  education_level  mortgage_amt  \\\n",
       "2973  1.461735       -0.802635    -1.215152        -1.061242     -0.784341   \n",
       "2774 -0.826882        1.387036     1.312027        -1.061242     -0.784341   \n",
       "3281 -0.908618        1.308833    -0.372759         1.323572     -0.784341   \n",
       "2512  1.379999       -0.724432    -1.215152        -1.061242     -0.784341   \n",
       "457   0.971317        0.839618     1.312027         0.131165     -0.784341   \n",
       "\n",
       "      share_trading_acct  fixed_deposit_acct income_category  \n",
       "2973           -0.326735           -0.287729      low_income  \n",
       "2774           -0.326735           -0.287729     high_income  \n",
       "3281           -0.326735           -0.287729   medium_income  \n",
       "2512           -0.326735           -0.287729   medium_income  \n",
       "457            -0.326735           -0.287729   medium_income  "
      ]
     },
     "execution_count": 61,
     "metadata": {},
     "output_type": "execute_result"
    }
   ],
   "source": [
    "# Apply the  previously defined function to the training set\n",
    "\n",
    "# Use apply() to apply a lambda function for all the rows of the dataframe\n",
    "# The lambda function calls the previously defined function bp_category()\n",
    "# To which it passes the diabetes_df as parameter\n",
    "# And a category is returned and saved in a new column named \"blood_pressure_category\"\n",
    "# https://pandas.pydata.org/pandas-docs/stable/reference/api/pandas.DataFrame.apply.html\n",
    "# the backslash is a line continuation character - there should be nothing after it, not even a space\n",
    "\n",
    "# Warning: A value is trying to be set on a copy of a slice from a DataFrame.\n",
    "# Try using .loc[row_indexer,col_indexer] = value instead\n",
    "# Below is another fix - make a copy\n",
    "X_train = X_train.copy()\n",
    "X_train[\"income_category\"] = \\\n",
    "    X_train.apply(lambda X_train:income_category(X_train), axis = 1) # axis=1 = row-wise\n",
    "\n",
    "# The column \"blood_pressure\" is no longer needed and hence can be deleted \n",
    "X_train.drop(['income'], axis=1, inplace=True)\n",
    "\n",
    "# Check\n",
    "X_train.head()"
   ]
  },
  {
   "cell_type": "code",
   "execution_count": 62,
   "id": "253eaba9",
   "metadata": {},
   "outputs": [
    {
     "data": {
      "text/html": [
       "<div>\n",
       "<style scoped>\n",
       "    .dataframe tbody tr th:only-of-type {\n",
       "        vertical-align: middle;\n",
       "    }\n",
       "\n",
       "    .dataframe tbody tr th {\n",
       "        vertical-align: top;\n",
       "    }\n",
       "\n",
       "    .dataframe thead th {\n",
       "        text-align: right;\n",
       "    }\n",
       "</style>\n",
       "<table border=\"1\" class=\"dataframe\">\n",
       "  <thead>\n",
       "    <tr style=\"text-align: right;\">\n",
       "      <th></th>\n",
       "      <th>age</th>\n",
       "      <th>yrs_experience</th>\n",
       "      <th>family_size</th>\n",
       "      <th>education_level</th>\n",
       "      <th>mortgage_amt</th>\n",
       "      <th>share_trading_acct</th>\n",
       "      <th>fixed_deposit_acct</th>\n",
       "      <th>income_category</th>\n",
       "    </tr>\n",
       "  </thead>\n",
       "  <tbody>\n",
       "    <tr>\n",
       "      <th>1637</th>\n",
       "      <td>1.298262</td>\n",
       "      <td>0.448606</td>\n",
       "      <td>-1.215152</td>\n",
       "      <td>0.131165</td>\n",
       "      <td>1.359831</td>\n",
       "      <td>-0.326735</td>\n",
       "      <td>-0.287729</td>\n",
       "      <td>low_income</td>\n",
       "    </tr>\n",
       "    <tr>\n",
       "      <th>1381</th>\n",
       "      <td>-1.807718</td>\n",
       "      <td>0.839618</td>\n",
       "      <td>-1.215152</td>\n",
       "      <td>1.323572</td>\n",
       "      <td>1.864342</td>\n",
       "      <td>-0.326735</td>\n",
       "      <td>-0.287729</td>\n",
       "      <td>medium_income</td>\n",
       "    </tr>\n",
       "    <tr>\n",
       "      <th>2714</th>\n",
       "      <td>-1.562509</td>\n",
       "      <td>-1.115445</td>\n",
       "      <td>-1.215152</td>\n",
       "      <td>1.323572</td>\n",
       "      <td>2.318402</td>\n",
       "      <td>-0.326735</td>\n",
       "      <td>-0.287729</td>\n",
       "      <td>medium_income</td>\n",
       "    </tr>\n",
       "    <tr>\n",
       "      <th>2556</th>\n",
       "      <td>-0.908618</td>\n",
       "      <td>0.448606</td>\n",
       "      <td>-0.372759</td>\n",
       "      <td>-1.061242</td>\n",
       "      <td>-0.784341</td>\n",
       "      <td>-0.326735</td>\n",
       "      <td>-0.287729</td>\n",
       "      <td>medium_income</td>\n",
       "    </tr>\n",
       "    <tr>\n",
       "      <th>586</th>\n",
       "      <td>0.072217</td>\n",
       "      <td>-0.020610</td>\n",
       "      <td>-0.372759</td>\n",
       "      <td>-1.061242</td>\n",
       "      <td>-0.784341</td>\n",
       "      <td>-0.326735</td>\n",
       "      <td>-0.287729</td>\n",
       "      <td>medium_income</td>\n",
       "    </tr>\n",
       "  </tbody>\n",
       "</table>\n",
       "</div>"
      ],
      "text/plain": [
       "           age  yrs_experience  family_size  education_level  mortgage_amt  \\\n",
       "1637  1.298262        0.448606    -1.215152         0.131165      1.359831   \n",
       "1381 -1.807718        0.839618    -1.215152         1.323572      1.864342   \n",
       "2714 -1.562509       -1.115445    -1.215152         1.323572      2.318402   \n",
       "2556 -0.908618        0.448606    -0.372759        -1.061242     -0.784341   \n",
       "586   0.072217       -0.020610    -0.372759        -1.061242     -0.784341   \n",
       "\n",
       "      share_trading_acct  fixed_deposit_acct income_category  \n",
       "1637           -0.326735           -0.287729      low_income  \n",
       "1381           -0.326735           -0.287729   medium_income  \n",
       "2714           -0.326735           -0.287729   medium_income  \n",
       "2556           -0.326735           -0.287729   medium_income  \n",
       "586            -0.326735           -0.287729   medium_income  "
      ]
     },
     "execution_count": 62,
     "metadata": {},
     "output_type": "execute_result"
    }
   ],
   "source": [
    "# Apply the  previously defined function to the testing set\n",
    "X_test = X_test.copy()\n",
    "X_test[\"income_category\"] = \\\n",
    "    X_test.apply(lambda X_test:income_category(X_test), axis = 1) # axis=1 = row-wise\n",
    "\n",
    "# The column \"blood_pressure\" is no longer needed and hence can be deleted \n",
    "X_test.drop(['income'], axis=1, inplace=True)\n",
    "\n",
    "# Check\n",
    "X_test.head()"
   ]
  },
  {
   "cell_type": "markdown",
   "id": "c7334cfb",
   "metadata": {},
   "source": [
    "### 2.3 Encode the discretized values"
   ]
  },
  {
   "cell_type": "code",
   "execution_count": 63,
   "id": "9c8feeff",
   "metadata": {},
   "outputs": [
    {
     "data": {
      "text/html": [
       "<div>\n",
       "<style scoped>\n",
       "    .dataframe tbody tr th:only-of-type {\n",
       "        vertical-align: middle;\n",
       "    }\n",
       "\n",
       "    .dataframe tbody tr th {\n",
       "        vertical-align: top;\n",
       "    }\n",
       "\n",
       "    .dataframe thead th {\n",
       "        text-align: right;\n",
       "    }\n",
       "</style>\n",
       "<table border=\"1\" class=\"dataframe\">\n",
       "  <thead>\n",
       "    <tr style=\"text-align: right;\">\n",
       "      <th></th>\n",
       "      <th>age</th>\n",
       "      <th>yrs_experience</th>\n",
       "      <th>family_size</th>\n",
       "      <th>education_level</th>\n",
       "      <th>mortgage_amt</th>\n",
       "      <th>share_trading_acct</th>\n",
       "      <th>fixed_deposit_acct</th>\n",
       "      <th>bpc_high_income</th>\n",
       "      <th>bpc_low_income</th>\n",
       "      <th>bpc_medium_income</th>\n",
       "    </tr>\n",
       "  </thead>\n",
       "  <tbody>\n",
       "    <tr>\n",
       "      <th>2973</th>\n",
       "      <td>1.461735</td>\n",
       "      <td>-0.802635</td>\n",
       "      <td>-1.215152</td>\n",
       "      <td>-1.061242</td>\n",
       "      <td>-0.784341</td>\n",
       "      <td>-0.326735</td>\n",
       "      <td>-0.287729</td>\n",
       "      <td>0</td>\n",
       "      <td>1</td>\n",
       "      <td>0</td>\n",
       "    </tr>\n",
       "    <tr>\n",
       "      <th>2774</th>\n",
       "      <td>-0.826882</td>\n",
       "      <td>1.387036</td>\n",
       "      <td>1.312027</td>\n",
       "      <td>-1.061242</td>\n",
       "      <td>-0.784341</td>\n",
       "      <td>-0.326735</td>\n",
       "      <td>-0.287729</td>\n",
       "      <td>1</td>\n",
       "      <td>0</td>\n",
       "      <td>0</td>\n",
       "    </tr>\n",
       "    <tr>\n",
       "      <th>3281</th>\n",
       "      <td>-0.908618</td>\n",
       "      <td>1.308833</td>\n",
       "      <td>-0.372759</td>\n",
       "      <td>1.323572</td>\n",
       "      <td>-0.784341</td>\n",
       "      <td>-0.326735</td>\n",
       "      <td>-0.287729</td>\n",
       "      <td>0</td>\n",
       "      <td>0</td>\n",
       "      <td>1</td>\n",
       "    </tr>\n",
       "    <tr>\n",
       "      <th>2512</th>\n",
       "      <td>1.379999</td>\n",
       "      <td>-0.724432</td>\n",
       "      <td>-1.215152</td>\n",
       "      <td>-1.061242</td>\n",
       "      <td>-0.784341</td>\n",
       "      <td>-0.326735</td>\n",
       "      <td>-0.287729</td>\n",
       "      <td>0</td>\n",
       "      <td>0</td>\n",
       "      <td>1</td>\n",
       "    </tr>\n",
       "    <tr>\n",
       "      <th>457</th>\n",
       "      <td>0.971317</td>\n",
       "      <td>0.839618</td>\n",
       "      <td>1.312027</td>\n",
       "      <td>0.131165</td>\n",
       "      <td>-0.784341</td>\n",
       "      <td>-0.326735</td>\n",
       "      <td>-0.287729</td>\n",
       "      <td>0</td>\n",
       "      <td>0</td>\n",
       "      <td>1</td>\n",
       "    </tr>\n",
       "  </tbody>\n",
       "</table>\n",
       "</div>"
      ],
      "text/plain": [
       "           age  yrs_experience  family_size  education_level  mortgage_amt  \\\n",
       "2973  1.461735       -0.802635    -1.215152        -1.061242     -0.784341   \n",
       "2774 -0.826882        1.387036     1.312027        -1.061242     -0.784341   \n",
       "3281 -0.908618        1.308833    -0.372759         1.323572     -0.784341   \n",
       "2512  1.379999       -0.724432    -1.215152        -1.061242     -0.784341   \n",
       "457   0.971317        0.839618     1.312027         0.131165     -0.784341   \n",
       "\n",
       "      share_trading_acct  fixed_deposit_acct  bpc_high_income  bpc_low_income  \\\n",
       "2973           -0.326735           -0.287729                0               1   \n",
       "2774           -0.326735           -0.287729                1               0   \n",
       "3281           -0.326735           -0.287729                0               0   \n",
       "2512           -0.326735           -0.287729                0               0   \n",
       "457            -0.326735           -0.287729                0               0   \n",
       "\n",
       "      bpc_medium_income  \n",
       "2973                  0  \n",
       "2774                  0  \n",
       "3281                  1  \n",
       "2512                  1  \n",
       "457                   1  "
      ]
     },
     "execution_count": 63,
     "metadata": {},
     "output_type": "execute_result"
    }
   ],
   "source": [
    "# 1. Select the columns to one-hot encode\n",
    "# Make sure the columns are categorical columns with multiple labels \n",
    "# It does not matter whether the labels are words or numbers\n",
    "# Better list all the columns and comment out the ones you don't need\n",
    "columns_to_onehot_encode = [\n",
    "    #'num_pregnancies', \n",
    "    #'glucose', \n",
    "    #'blood_pressure', # this column no longer exists\n",
    "    'income_category'\n",
    "    \n",
    "]\n",
    "\n",
    "# 2 Instantiate a one-hot encoder\n",
    "#enc = OneHotEncoder() # No, this will generate strings, not numbers\n",
    "enc = LabelBinarizer()\n",
    "\n",
    "# 3. Fit the encoder on the training column and transform the training and testing columns\n",
    "# Use a loop to label encode all the required columns \n",
    "for col in columns_to_onehot_encode:\n",
    "    # Option 1. Using pandas (simpler than sklearn)\n",
    "    ## Fix X_train\n",
    "    dummies_df = pd.get_dummies(X_train[col], prefix=\"bpc\", dtype=int ) # generate dataframe of dummies\n",
    "    X_train.drop([col], axis=1, inplace=True) # drop original column\n",
    "    X_train = pd.concat([X_train, dummies_df], axis=1) # concatenate both dataframes\n",
    "    ## Fix X_test\n",
    "    dummies_df = pd.get_dummies(X_test[col], prefix=\"bpc\", dtype=int )\n",
    "    X_test.drop([col], axis=1, inplace=True)\n",
    "    X_test = pd.concat([X_test, dummies_df], axis=1)\n",
    "    \n",
    "    # Option 2: Using sklearn    \n",
    "    # First fit the encoder to the training data\n",
    "    #enc.fit(X_train[col].values.reshape(-1, 1)) # need to reshape\n",
    "    #X_train_array = enc.transform(X_train[col])\n",
    "    #X_test_array = enc.transform(X_test[col])\n",
    "    #print(X_train_array)\n",
    "    #print(X_train_array)\n",
    "    # numpy arrays generated - have no column names and columns not in any particular order\n",
    "    # need to write complex code to generate column names for variable number of columns\n",
    "    # to be able to convert the numpy array to a daframe\n",
    "    # Better use the pandas solution!\n",
    "     \n",
    "# Check\n",
    "X_train.head()"
   ]
  },
  {
   "cell_type": "code",
   "execution_count": 64,
   "id": "001dbbaf",
   "metadata": {},
   "outputs": [
    {
     "data": {
      "text/html": [
       "<div>\n",
       "<style scoped>\n",
       "    .dataframe tbody tr th:only-of-type {\n",
       "        vertical-align: middle;\n",
       "    }\n",
       "\n",
       "    .dataframe tbody tr th {\n",
       "        vertical-align: top;\n",
       "    }\n",
       "\n",
       "    .dataframe thead th {\n",
       "        text-align: right;\n",
       "    }\n",
       "</style>\n",
       "<table border=\"1\" class=\"dataframe\">\n",
       "  <thead>\n",
       "    <tr style=\"text-align: right;\">\n",
       "      <th></th>\n",
       "      <th>age</th>\n",
       "      <th>yrs_experience</th>\n",
       "      <th>family_size</th>\n",
       "      <th>education_level</th>\n",
       "      <th>mortgage_amt</th>\n",
       "      <th>share_trading_acct</th>\n",
       "      <th>fixed_deposit_acct</th>\n",
       "      <th>bpc_high_income</th>\n",
       "      <th>bpc_low_income</th>\n",
       "      <th>bpc_medium_income</th>\n",
       "    </tr>\n",
       "  </thead>\n",
       "  <tbody>\n",
       "    <tr>\n",
       "      <th>1637</th>\n",
       "      <td>1.298262</td>\n",
       "      <td>0.448606</td>\n",
       "      <td>-1.215152</td>\n",
       "      <td>0.131165</td>\n",
       "      <td>1.359831</td>\n",
       "      <td>-0.326735</td>\n",
       "      <td>-0.287729</td>\n",
       "      <td>0</td>\n",
       "      <td>1</td>\n",
       "      <td>0</td>\n",
       "    </tr>\n",
       "    <tr>\n",
       "      <th>1381</th>\n",
       "      <td>-1.807718</td>\n",
       "      <td>0.839618</td>\n",
       "      <td>-1.215152</td>\n",
       "      <td>1.323572</td>\n",
       "      <td>1.864342</td>\n",
       "      <td>-0.326735</td>\n",
       "      <td>-0.287729</td>\n",
       "      <td>0</td>\n",
       "      <td>0</td>\n",
       "      <td>1</td>\n",
       "    </tr>\n",
       "    <tr>\n",
       "      <th>2714</th>\n",
       "      <td>-1.562509</td>\n",
       "      <td>-1.115445</td>\n",
       "      <td>-1.215152</td>\n",
       "      <td>1.323572</td>\n",
       "      <td>2.318402</td>\n",
       "      <td>-0.326735</td>\n",
       "      <td>-0.287729</td>\n",
       "      <td>0</td>\n",
       "      <td>0</td>\n",
       "      <td>1</td>\n",
       "    </tr>\n",
       "    <tr>\n",
       "      <th>2556</th>\n",
       "      <td>-0.908618</td>\n",
       "      <td>0.448606</td>\n",
       "      <td>-0.372759</td>\n",
       "      <td>-1.061242</td>\n",
       "      <td>-0.784341</td>\n",
       "      <td>-0.326735</td>\n",
       "      <td>-0.287729</td>\n",
       "      <td>0</td>\n",
       "      <td>0</td>\n",
       "      <td>1</td>\n",
       "    </tr>\n",
       "    <tr>\n",
       "      <th>586</th>\n",
       "      <td>0.072217</td>\n",
       "      <td>-0.020610</td>\n",
       "      <td>-0.372759</td>\n",
       "      <td>-1.061242</td>\n",
       "      <td>-0.784341</td>\n",
       "      <td>-0.326735</td>\n",
       "      <td>-0.287729</td>\n",
       "      <td>0</td>\n",
       "      <td>0</td>\n",
       "      <td>1</td>\n",
       "    </tr>\n",
       "  </tbody>\n",
       "</table>\n",
       "</div>"
      ],
      "text/plain": [
       "           age  yrs_experience  family_size  education_level  mortgage_amt  \\\n",
       "1637  1.298262        0.448606    -1.215152         0.131165      1.359831   \n",
       "1381 -1.807718        0.839618    -1.215152         1.323572      1.864342   \n",
       "2714 -1.562509       -1.115445    -1.215152         1.323572      2.318402   \n",
       "2556 -0.908618        0.448606    -0.372759        -1.061242     -0.784341   \n",
       "586   0.072217       -0.020610    -0.372759        -1.061242     -0.784341   \n",
       "\n",
       "      share_trading_acct  fixed_deposit_acct  bpc_high_income  bpc_low_income  \\\n",
       "1637           -0.326735           -0.287729                0               1   \n",
       "1381           -0.326735           -0.287729                0               0   \n",
       "2714           -0.326735           -0.287729                0               0   \n",
       "2556           -0.326735           -0.287729                0               0   \n",
       "586            -0.326735           -0.287729                0               0   \n",
       "\n",
       "      bpc_medium_income  \n",
       "1637                  0  \n",
       "1381                  1  \n",
       "2714                  1  \n",
       "2556                  1  \n",
       "586                   1  "
      ]
     },
     "execution_count": 64,
     "metadata": {},
     "output_type": "execute_result"
    }
   ],
   "source": [
    "# Check\n",
    "X_test.head()"
   ]
  },
  {
   "cell_type": "markdown",
   "id": "caacd223",
   "metadata": {},
   "source": [
    "# Instantiate model"
   ]
  },
  {
   "cell_type": "markdown",
   "id": "e5826ccc",
   "metadata": {},
   "source": [
    "## Build model KNN"
   ]
  },
  {
   "cell_type": "code",
   "execution_count": 65,
   "id": "a43614c2",
   "metadata": {},
   "outputs": [
    {
     "name": "stdout",
     "output_type": "stream",
     "text": [
      "[0 0 0 0 0]\n"
     ]
    }
   ],
   "source": [
    "# Instantiate model and fit on training data\n",
    "knn_model = KNeighborsClassifier(n_neighbors=5).fit(X_train, y_train)\n",
    "\n",
    "# Predict using test data\n",
    "y_pred = knn_model.predict(X_test)\n",
    "\n",
    "# Quick check\n",
    "print(y_pred[:5])"
   ]
  },
  {
   "cell_type": "code",
   "execution_count": 66,
   "id": "4824b370",
   "metadata": {},
   "outputs": [
    {
     "name": "stdout",
     "output_type": "stream",
     "text": [
      "True: [0 0 1 0 0 0 0 0 0 1 0 0 1 1 0 0 0 0 0 0 0 0 0 0 1]\n",
      "Pred: [0 0 0 0 0 0 1 0 0 1 0 0 0 1 0 0 1 0 0 0 0 0 0 0 0]\n"
     ]
    }
   ],
   "source": [
    "# Compare the actual (true) labels or categories with the predicted ones\n",
    "print('True:', y_test.values[0:25])\n",
    "print('Pred:', y_pred[0:25])"
   ]
  },
  {
   "cell_type": "markdown",
   "id": "5a19316d",
   "metadata": {},
   "source": [
    "# II. Performance metrics"
   ]
  },
  {
   "cell_type": "markdown",
   "id": "9354de47",
   "metadata": {},
   "source": [
    "### 2.1 Performance Metrics"
   ]
  },
  {
   "cell_type": "code",
   "execution_count": 67,
   "id": "70256292",
   "metadata": {},
   "outputs": [
    {
     "name": "stdout",
     "output_type": "stream",
     "text": [
      "classification accuracy: 0.8833333333333333\n",
      "Is this a good classifier?\n"
     ]
    }
   ],
   "source": [
    "#classification accuracy test\n",
    "classification_accuracy = accuracy_score(y_test, y_pred)\n",
    "print(f\"classification accuracy: {classification_accuracy}\")\n",
    "print(f\"Is this a good classifier?\")"
   ]
  },
  {
   "cell_type": "code",
   "execution_count": 68,
   "id": "4210f30d",
   "metadata": {},
   "outputs": [
    {
     "name": "stdout",
     "output_type": "stream",
     "text": [
      "null accuracy: 0.8383333333333334\n",
      "No machine learning was used to build this classifer!\n"
     ]
    }
   ],
   "source": [
    "# Null accuracy\n",
    "# y_test = list of labels in the testing set\n",
    "# y_pred = extracted from the model\n",
    "\n",
    "# This formula will only work for binary classification problems\n",
    "null_accuracy = max(y_test.mean(), 1 - y_test.mean())\n",
    "print(f\"null accuracy: {null_accuracy}\")\n",
    "print(f\"No machine learning was used to build this classifer!\")"
   ]
  },
  {
   "cell_type": "code",
   "execution_count": 69,
   "id": "b4862dc8",
   "metadata": {},
   "outputs": [
    {
     "name": "stdout",
     "output_type": "stream",
     "text": [
      "Confusion Matrix:\n",
      " [[959  47]\n",
      " [ 93 101]]\n",
      "There are a lot of cases that are mis-classified.\n",
      "47 cases are classified as positives when they are not - called false positives (FP)\n",
      "93 cases are classified as negatives when they are not - called false negatives (FN)\n",
      "A FP means you are telling someone that he approved the loan when he doesn't have it.\n",
      "A FN means you are telling someone that he did not accept the loan offer when in fact he has it.\n",
      "If you had to minimise FP and FN, which one would you choose in this context?\n"
     ]
    }
   ],
   "source": [
    "#confusion matrix\n",
    "from sklearn.metrics import confusion_matrix\n",
    "\n",
    "# Generate confusion matrix\n",
    "cf_matrix = confusion_matrix(y_test, y_pred)\n",
    "print(f\"Confusion Matrix:\\n {cf_matrix}\")  # \\n means new line i.e. next line\n",
    "\n",
    "# Interpretation of the confusion matrix\n",
    "print(\"There are a lot of cases that are mis-classified.\")\n",
    "print(f\"{cf_matrix[0, 1]} cases are classified as positives when they are not - called false positives (FP)\")\n",
    "print(f\"{cf_matrix[1, 0]} cases are classified as negatives when they are not - called false negatives (FN)\")\n",
    "print(\"A FP means you are telling someone that he approved the loan when he doesn't have it.\")\n",
    "print(\"A FN means you are telling someone that he did not accept the loan offer when in fact he has it.\")\n",
    "print(\"If you had to minimise FP and FN, which one would you choose in this context?\")\n"
   ]
  },
  {
   "cell_type": "code",
   "execution_count": 70,
   "id": "f838aa67",
   "metadata": {},
   "outputs": [
    {
     "data": {
      "image/png": "[encoded data removed]",
      "text/plain": [
       "<Figure size 640x480 with 2 Axes>"
      ]
     },
     "metadata": {},
     "output_type": "display_data"
    }
   ],
   "source": [
    "# Visualise the confusion matrix as a Seaborn Heatmap\n",
    "sns.heatmap(cf_matrix, annot=True, fmt=\"d\", yticklabels=False, cmap=\"YlGnBu\")\n",
    "\n",
    "# If you want to save the graph to disk\n",
    "plt.tight_layout() # automatically adjusts subplot to fit in the figure area\n",
    "plt.savefig('03-confusion-matrix-initial.png', dpi=300) # dpi=300 is print quality"
   ]
  },
  {
   "cell_type": "code",
   "execution_count": 71,
   "id": "ef2181c0",
   "metadata": {},
   "outputs": [
    {
     "name": "stdout",
     "output_type": "stream",
     "text": [
      "recall: 0.520618556701031\n"
     ]
    }
   ],
   "source": [
    "#Recall\n",
    "recall = recall_score(y_test, y_pred)\n",
    "print(f\"recall: {recall}\") # the closer to 1 the more accurate"
   ]
  },
  {
   "cell_type": "code",
   "execution_count": 72,
   "id": "2391fbbe",
   "metadata": {},
   "outputs": [
    {
     "name": "stdout",
     "output_type": "stream",
     "text": [
      "precision: 0.6824324324324325\n"
     ]
    }
   ],
   "source": [
    "#Precision\n",
    "precision = precision_score(y_test, y_pred)\n",
    "print(f\"precision: {precision}\")"
   ]
  },
  {
   "cell_type": "code",
   "execution_count": 73,
   "id": "a0ff1b9e",
   "metadata": {},
   "outputs": [
    {
     "name": "stdout",
     "output_type": "stream",
     "text": [
      "F1 score: 0.5906432748538012\n"
     ]
    }
   ],
   "source": [
    "#F1 score\n",
    "f1 = f1_score(y_test, y_pred)\n",
    "print(f\"F1 score: {f1}\")"
   ]
  },
  {
   "cell_type": "code",
   "execution_count": 74,
   "id": "d3c47242",
   "metadata": {},
   "outputs": [
    {
     "name": "stdout",
     "output_type": "stream",
     "text": [
      "tn 959\n",
      "fp 47\n",
      "fn 93\n",
      "tp 101\n",
      "precision: 0.6824324324324325\n",
      "recall: 0.520618556701031\n",
      "F1 score: 0.5906432748538013\n"
     ]
    }
   ],
   "source": [
    "# Method2. Use numpy's ravel() function to flatten the 2D confusion matrix to a 1D array\n",
    "tn, fp, fn, tp = confusion_matrix(y_test, y_pred).ravel()\n",
    "\n",
    "# Print\n",
    "print(f\"tn {tn}\")\n",
    "print(f\"fp {fp}\" )\n",
    "print(f\"fn {fn}\")\n",
    "print(f\"tp {tp}\")\n",
    "\n",
    "# Precision\n",
    "precision = tp / (tp + fp)\n",
    "print(f\"precision: {precision}\")\n",
    "\n",
    "# Recall\n",
    "recall = tp / (tp + fn)\n",
    "print(f\"recall: {recall}\")\n",
    "\n",
    "# F1\n",
    "f1 = 2 * (precision * recall) / (precision + recall)\n",
    "print(f\"F1 score: {f1}\")"
   ]
  },
  {
   "cell_type": "code",
   "execution_count": 75,
   "id": "c8a9926d",
   "metadata": {},
   "outputs": [
    {
     "name": "stdout",
     "output_type": "stream",
     "text": [
      "              precision    recall  f1-score   support\n",
      "\n",
      "           0       0.91      0.95      0.93      1006\n",
      "           1       0.68      0.52      0.59       194\n",
      "\n",
      "    accuracy                           0.88      1200\n",
      "   macro avg       0.80      0.74      0.76      1200\n",
      "weighted avg       0.87      0.88      0.88      1200\n",
      "\n"
     ]
    }
   ],
   "source": [
    "#Scikit-Learn's classification report\n",
    "print(classification_report(y_test,y_pred))"
   ]
  },
  {
   "cell_type": "code",
   "execution_count": 76,
   "id": "d43e3895",
   "metadata": {},
   "outputs": [
    {
     "name": "stdout",
     "output_type": "stream",
     "text": [
      "AUC: 0.74\n"
     ]
    },
    {
     "data": {
      "image/png": "[encoded data removed]",
      "text/plain": [
       "<Figure size 640x480 with 1 Axes>"
      ]
     },
     "metadata": {},
     "output_type": "display_data"
    }
   ],
   "source": [
    "#AUC and ROC curve\n",
    "\n",
    "# Call function roc_curve() to get the false positive rates (fpr) and true positive rates\n",
    "# Need to pass the list of actual and predicted classes as parameters to the function\n",
    "fpr, tpr, thresholds = roc_curve(y_test,y_pred)\n",
    "#print(fpr)\n",
    "#print(tpr)\n",
    "\n",
    "# Call the auc() function to calculate the area under the curve\n",
    "# Need to pass the false positive rates (fpr) and true positive rates as parameters to the function\n",
    "roc_auc = auc(fpr,tpr)\n",
    "print(f'AUC: {roc_auc:0.2f}') # float 2 places of decimal\n",
    "\n",
    "# Plot ROC curve\n",
    "plt.figure()\n",
    "plt.plot(fpr,tpr,label='ROC curve(area= %2.f)' %roc_auc)\n",
    "plt.plot([0,1],[0,1],'k--')\n",
    "plt.xlim([0.0,1.0])\n",
    "plt.ylim([0.0,1.05])\n",
    "plt.xlabel('False positive rate')\n",
    "plt.ylabel('True positive rate')\n",
    "plt.title('ROC curve')\n",
    "plt.legend(loc='lower right')\n",
    "plt.grid()\n",
    "#plt.show()\n",
    "\n",
    "# If you want to save the graph to disk\n",
    "plt.tight_layout() # automatically adjusts subplot to fit in the figure area\n",
    "plt.savefig('roc-curve-initial.png', dpi=300) # dpi=300 is print quality"
   ]
  },
  {
   "cell_type": "code",
   "execution_count": 77,
   "id": "bfd28314",
   "metadata": {},
   "outputs": [
    {
     "data": {
      "text/plain": [
       "['y_test_2_selected.pkl']"
      ]
     },
     "execution_count": 77,
     "metadata": {},
     "output_type": "execute_result"
    }
   ],
   "source": [
    "# Pickle the model for later evaluation\n",
    "joblib.dump(knn_model, 'model-test-2-selected')  # Use the right model name and a suitable file name\n",
    "\n",
    "# Also need to pickle the training and testing sets\n",
    "joblib.dump(X_train, 'X_train_2_selected.pkl') \n",
    "joblib.dump(X_test, 'X_test_2_selected.pkl') \n",
    "joblib.dump(y_train, 'y_train_2_selected.pkl') \n",
    "joblib.dump(y_test, 'y_test_2_selected.pkl')\n",
    "\n",
    "# Note: make sure that the model and the training/testing sets match \n",
    "# i.e. the model was built using this particular training set\n",
    "# and the testing set matches this particular training"
   ]
  }
 ],
 "metadata": {
  "kernelspec": {
   "display_name": "Python 3 (ipykernel)",
   "language": "python",
   "name": "python3"
  },
  "language_info": {
   "codemirror_mode": {
    "name": "ipython",
    "version": 3
   },
   "file_extension": ".py",
   "mimetype": "text/x-python",
   "name": "python",
   "nbconvert_exporter": "python",
   "pygments_lexer": "ipython3",
   "version": "3.10.0"
  }
 },
 "nbformat": 4,
 "nbformat_minor": 5
}
